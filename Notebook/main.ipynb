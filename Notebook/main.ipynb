{
 "cells": [
  {
   "cell_type": "code",
   "execution_count": 1,
   "metadata": {},
   "outputs": [],
   "source": [
    "import pandas as pd\n",
    "import numpy as np\n",
    "from sklearn.model_selection import RandomizedSearchCV, GridSearchCV , cross_val_score\n",
    "from sklearn.preprocessing import StandardScaler,OneHotEncoder,LabelEncoder,OrdinalEncoder\n",
    "from sklearn.linear_model import LogisticRegression\n",
    "from sklearn.metrics import accuracy_score, f1_score, confusion_matrix\n",
    "from sklearn.compose import ColumnTransformer\n",
    "import matplotlib.pyplot as plt\n",
    "import seaborn as sns\n"
   ]
  },
  {
   "cell_type": "code",
   "execution_count": 2,
   "metadata": {},
   "outputs": [],
   "source": [
    "from sklearn.linear_model import LogisticRegression\n",
    "from sklearn.tree import DecisionTreeClassifier\n",
    "from sklearn.ensemble import RandomForestClassifier , AdaBoostClassifier\n",
    "from sklearn.svm import SVC\n",
    "from sklearn.naive_bayes import GaussianNB\n",
    "from sklearn.model_selection import KFold\n",
    "from lightgbm import LGBMClassifier\n",
    "from sklearn.model_selection import train_test_split\n"
   ]
  },
  {
   "cell_type": "code",
   "execution_count": 3,
   "metadata": {},
   "outputs": [
    {
     "data": {
      "text/plain": [
       "(14999, 10)"
      ]
     },
     "execution_count": 3,
     "metadata": {},
     "output_type": "execute_result"
    }
   ],
   "source": [
    "## reading data\n",
    "data =  pd.read_csv(r'/mnt/d/portfolio/Diabetis_prediction/Data/employee_retention.csv')\n",
    "data.shape"
   ]
  },
  {
   "cell_type": "code",
   "execution_count": 4,
   "metadata": {},
   "outputs": [
    {
     "name": "stdout",
     "output_type": "stream",
     "text": [
      "<class 'pandas.core.frame.DataFrame'>\n",
      "RangeIndex: 14999 entries, 0 to 14998\n",
      "Data columns (total 10 columns):\n",
      " #   Column                 Non-Null Count  Dtype \n",
      "---  ------                 --------------  ----- \n",
      " 0   Unnamed: 0             14999 non-null  int64 \n",
      " 1   employee_id            14999 non-null  int64 \n",
      " 2   number_project         14999 non-null  int64 \n",
      " 3   average_montly_hours   14999 non-null  int64 \n",
      " 4   time_spend_company     14999 non-null  int64 \n",
      " 5   Work_accident          14999 non-null  int64 \n",
      " 6   left                   14999 non-null  int64 \n",
      " 7   promotion_last_5years  14999 non-null  int64 \n",
      " 8   department             14999 non-null  object\n",
      " 9   salary                 14999 non-null  object\n",
      "dtypes: int64(8), object(2)\n",
      "memory usage: 1.1+ MB\n"
     ]
    }
   ],
   "source": [
    "data.info()"
   ]
  },
  {
   "cell_type": "code",
   "execution_count": 5,
   "metadata": {},
   "outputs": [
    {
     "data": {
      "text/plain": [
       "Unnamed: 0               14999\n",
       "employee_id              14999\n",
       "number_project               6\n",
       "average_montly_hours       215\n",
       "time_spend_company           8\n",
       "Work_accident                2\n",
       "left                         2\n",
       "promotion_last_5years        2\n",
       "department                  10\n",
       "salary                       3\n",
       "dtype: int64"
      ]
     },
     "execution_count": 5,
     "metadata": {},
     "output_type": "execute_result"
    }
   ],
   "source": [
    "data.nunique()"
   ]
  },
  {
   "cell_type": "code",
   "execution_count": 6,
   "metadata": {},
   "outputs": [
    {
     "data": {
      "text/plain": [
       "0    0.761917\n",
       "1    0.238083\n",
       "Name: left, dtype: float64"
      ]
     },
     "execution_count": 6,
     "metadata": {},
     "output_type": "execute_result"
    }
   ],
   "source": [
    "data.left.value_counts(normalize=True)"
   ]
  },
  {
   "cell_type": "code",
   "execution_count": 7,
   "metadata": {},
   "outputs": [
    {
     "data": {
      "text/html": [
       "<div>\n",
       "<style scoped>\n",
       "    .dataframe tbody tr th:only-of-type {\n",
       "        vertical-align: middle;\n",
       "    }\n",
       "\n",
       "    .dataframe tbody tr th {\n",
       "        vertical-align: top;\n",
       "    }\n",
       "\n",
       "    .dataframe thead th {\n",
       "        text-align: right;\n",
       "    }\n",
       "</style>\n",
       "<table border=\"1\" class=\"dataframe\">\n",
       "  <thead>\n",
       "    <tr style=\"text-align: right;\">\n",
       "      <th></th>\n",
       "      <th>Unnamed: 0</th>\n",
       "      <th>employee_id</th>\n",
       "      <th>number_project</th>\n",
       "      <th>average_montly_hours</th>\n",
       "      <th>time_spend_company</th>\n",
       "      <th>Work_accident</th>\n",
       "      <th>left</th>\n",
       "      <th>promotion_last_5years</th>\n",
       "    </tr>\n",
       "  </thead>\n",
       "  <tbody>\n",
       "    <tr>\n",
       "      <th>count</th>\n",
       "      <td>14999.000000</td>\n",
       "      <td>14999.000000</td>\n",
       "      <td>14999.000000</td>\n",
       "      <td>14999.000000</td>\n",
       "      <td>14999.000000</td>\n",
       "      <td>14999.000000</td>\n",
       "      <td>14999.000000</td>\n",
       "      <td>14999.000000</td>\n",
       "    </tr>\n",
       "    <tr>\n",
       "      <th>mean</th>\n",
       "      <td>7499.000000</td>\n",
       "      <td>45424.627575</td>\n",
       "      <td>3.803054</td>\n",
       "      <td>201.050337</td>\n",
       "      <td>3.498233</td>\n",
       "      <td>0.144610</td>\n",
       "      <td>0.238083</td>\n",
       "      <td>0.021268</td>\n",
       "    </tr>\n",
       "    <tr>\n",
       "      <th>std</th>\n",
       "      <td>4329.982679</td>\n",
       "      <td>25915.900127</td>\n",
       "      <td>1.232592</td>\n",
       "      <td>49.943099</td>\n",
       "      <td>1.460136</td>\n",
       "      <td>0.351719</td>\n",
       "      <td>0.425924</td>\n",
       "      <td>0.144281</td>\n",
       "    </tr>\n",
       "    <tr>\n",
       "      <th>min</th>\n",
       "      <td>0.000000</td>\n",
       "      <td>1003.000000</td>\n",
       "      <td>2.000000</td>\n",
       "      <td>96.000000</td>\n",
       "      <td>2.000000</td>\n",
       "      <td>0.000000</td>\n",
       "      <td>0.000000</td>\n",
       "      <td>0.000000</td>\n",
       "    </tr>\n",
       "    <tr>\n",
       "      <th>25%</th>\n",
       "      <td>3749.500000</td>\n",
       "      <td>22872.500000</td>\n",
       "      <td>3.000000</td>\n",
       "      <td>156.000000</td>\n",
       "      <td>3.000000</td>\n",
       "      <td>0.000000</td>\n",
       "      <td>0.000000</td>\n",
       "      <td>0.000000</td>\n",
       "    </tr>\n",
       "    <tr>\n",
       "      <th>50%</th>\n",
       "      <td>7499.000000</td>\n",
       "      <td>45448.000000</td>\n",
       "      <td>4.000000</td>\n",
       "      <td>200.000000</td>\n",
       "      <td>3.000000</td>\n",
       "      <td>0.000000</td>\n",
       "      <td>0.000000</td>\n",
       "      <td>0.000000</td>\n",
       "    </tr>\n",
       "    <tr>\n",
       "      <th>75%</th>\n",
       "      <td>11248.500000</td>\n",
       "      <td>67480.500000</td>\n",
       "      <td>5.000000</td>\n",
       "      <td>245.000000</td>\n",
       "      <td>4.000000</td>\n",
       "      <td>0.000000</td>\n",
       "      <td>0.000000</td>\n",
       "      <td>0.000000</td>\n",
       "    </tr>\n",
       "    <tr>\n",
       "      <th>max</th>\n",
       "      <td>14998.000000</td>\n",
       "      <td>99815.000000</td>\n",
       "      <td>7.000000</td>\n",
       "      <td>310.000000</td>\n",
       "      <td>10.000000</td>\n",
       "      <td>1.000000</td>\n",
       "      <td>1.000000</td>\n",
       "      <td>1.000000</td>\n",
       "    </tr>\n",
       "  </tbody>\n",
       "</table>\n",
       "</div>"
      ],
      "text/plain": [
       "         Unnamed: 0   employee_id  number_project  average_montly_hours  \\\n",
       "count  14999.000000  14999.000000    14999.000000          14999.000000   \n",
       "mean    7499.000000  45424.627575        3.803054            201.050337   \n",
       "std     4329.982679  25915.900127        1.232592             49.943099   \n",
       "min        0.000000   1003.000000        2.000000             96.000000   \n",
       "25%     3749.500000  22872.500000        3.000000            156.000000   \n",
       "50%     7499.000000  45448.000000        4.000000            200.000000   \n",
       "75%    11248.500000  67480.500000        5.000000            245.000000   \n",
       "max    14998.000000  99815.000000        7.000000            310.000000   \n",
       "\n",
       "       time_spend_company  Work_accident          left  promotion_last_5years  \n",
       "count        14999.000000   14999.000000  14999.000000           14999.000000  \n",
       "mean             3.498233       0.144610      0.238083               0.021268  \n",
       "std              1.460136       0.351719      0.425924               0.144281  \n",
       "min              2.000000       0.000000      0.000000               0.000000  \n",
       "25%              3.000000       0.000000      0.000000               0.000000  \n",
       "50%              3.000000       0.000000      0.000000               0.000000  \n",
       "75%              4.000000       0.000000      0.000000               0.000000  \n",
       "max             10.000000       1.000000      1.000000               1.000000  "
      ]
     },
     "execution_count": 7,
     "metadata": {},
     "output_type": "execute_result"
    }
   ],
   "source": [
    "data.describe()"
   ]
  },
  {
   "cell_type": "code",
   "execution_count": 8,
   "metadata": {},
   "outputs": [
    {
     "data": {
      "text/html": [
       "<div>\n",
       "<style scoped>\n",
       "    .dataframe tbody tr th:only-of-type {\n",
       "        vertical-align: middle;\n",
       "    }\n",
       "\n",
       "    .dataframe tbody tr th {\n",
       "        vertical-align: top;\n",
       "    }\n",
       "\n",
       "    .dataframe thead th {\n",
       "        text-align: right;\n",
       "    }\n",
       "</style>\n",
       "<table border=\"1\" class=\"dataframe\">\n",
       "  <thead>\n",
       "    <tr style=\"text-align: right;\">\n",
       "      <th></th>\n",
       "      <th>EMPLOYEE #</th>\n",
       "      <th>satisfaction_level</th>\n",
       "      <th>last_evaluation</th>\n",
       "    </tr>\n",
       "  </thead>\n",
       "  <tbody>\n",
       "    <tr>\n",
       "      <th>0</th>\n",
       "      <td>1003</td>\n",
       "      <td>0.38</td>\n",
       "      <td>0.53</td>\n",
       "    </tr>\n",
       "    <tr>\n",
       "      <th>1</th>\n",
       "      <td>1005</td>\n",
       "      <td>0.80</td>\n",
       "      <td>0.86</td>\n",
       "    </tr>\n",
       "    <tr>\n",
       "      <th>2</th>\n",
       "      <td>1486</td>\n",
       "      <td>0.11</td>\n",
       "      <td>0.88</td>\n",
       "    </tr>\n",
       "    <tr>\n",
       "      <th>3</th>\n",
       "      <td>1038</td>\n",
       "      <td>0.72</td>\n",
       "      <td>0.87</td>\n",
       "    </tr>\n",
       "    <tr>\n",
       "      <th>4</th>\n",
       "      <td>1057</td>\n",
       "      <td>0.37</td>\n",
       "      <td>0.52</td>\n",
       "    </tr>\n",
       "  </tbody>\n",
       "</table>\n",
       "</div>"
      ],
      "text/plain": [
       "   EMPLOYEE #  satisfaction_level  last_evaluation\n",
       "0        1003                0.38             0.53\n",
       "1        1005                0.80             0.86\n",
       "2        1486                0.11             0.88\n",
       "3        1038                0.72             0.87\n",
       "4        1057                0.37             0.52"
      ]
     },
     "execution_count": 8,
     "metadata": {},
     "output_type": "execute_result"
    }
   ],
   "source": [
    "emp_satis_eval = pd.read_csv('/mnt/d/portfolio/Diabetis_prediction/Data/employee_satisfaction_evaluation.csv')\n",
    "\n",
    "emp_satis_eval.head()"
   ]
  },
  {
   "cell_type": "code",
   "execution_count": 9,
   "metadata": {},
   "outputs": [
    {
     "data": {
      "text/html": [
       "<div>\n",
       "<style scoped>\n",
       "    .dataframe tbody tr th:only-of-type {\n",
       "        vertical-align: middle;\n",
       "    }\n",
       "\n",
       "    .dataframe tbody tr th {\n",
       "        vertical-align: top;\n",
       "    }\n",
       "\n",
       "    .dataframe thead th {\n",
       "        text-align: right;\n",
       "    }\n",
       "</style>\n",
       "<table border=\"1\" class=\"dataframe\">\n",
       "  <thead>\n",
       "    <tr style=\"text-align: right;\">\n",
       "      <th></th>\n",
       "      <th>EMPLOYEE #</th>\n",
       "      <th>satisfaction_level</th>\n",
       "      <th>last_evaluation</th>\n",
       "    </tr>\n",
       "  </thead>\n",
       "  <tbody>\n",
       "    <tr>\n",
       "      <th>count</th>\n",
       "      <td>14999.000000</td>\n",
       "      <td>14972.000000</td>\n",
       "      <td>14972.000000</td>\n",
       "    </tr>\n",
       "    <tr>\n",
       "      <th>mean</th>\n",
       "      <td>45424.627575</td>\n",
       "      <td>0.612830</td>\n",
       "      <td>0.716125</td>\n",
       "    </tr>\n",
       "    <tr>\n",
       "      <th>std</th>\n",
       "      <td>25915.900127</td>\n",
       "      <td>0.248714</td>\n",
       "      <td>0.171138</td>\n",
       "    </tr>\n",
       "    <tr>\n",
       "      <th>min</th>\n",
       "      <td>1003.000000</td>\n",
       "      <td>0.090000</td>\n",
       "      <td>0.360000</td>\n",
       "    </tr>\n",
       "    <tr>\n",
       "      <th>25%</th>\n",
       "      <td>22872.500000</td>\n",
       "      <td>0.440000</td>\n",
       "      <td>0.560000</td>\n",
       "    </tr>\n",
       "    <tr>\n",
       "      <th>50%</th>\n",
       "      <td>45448.000000</td>\n",
       "      <td>0.640000</td>\n",
       "      <td>0.720000</td>\n",
       "    </tr>\n",
       "    <tr>\n",
       "      <th>75%</th>\n",
       "      <td>67480.500000</td>\n",
       "      <td>0.820000</td>\n",
       "      <td>0.870000</td>\n",
       "    </tr>\n",
       "    <tr>\n",
       "      <th>max</th>\n",
       "      <td>99815.000000</td>\n",
       "      <td>1.000000</td>\n",
       "      <td>1.000000</td>\n",
       "    </tr>\n",
       "  </tbody>\n",
       "</table>\n",
       "</div>"
      ],
      "text/plain": [
       "         EMPLOYEE #  satisfaction_level  last_evaluation\n",
       "count  14999.000000        14972.000000     14972.000000\n",
       "mean   45424.627575            0.612830         0.716125\n",
       "std    25915.900127            0.248714         0.171138\n",
       "min     1003.000000            0.090000         0.360000\n",
       "25%    22872.500000            0.440000         0.560000\n",
       "50%    45448.000000            0.640000         0.720000\n",
       "75%    67480.500000            0.820000         0.870000\n",
       "max    99815.000000            1.000000         1.000000"
      ]
     },
     "execution_count": 9,
     "metadata": {},
     "output_type": "execute_result"
    }
   ],
   "source": [
    "emp_satis_eval.describe()"
   ]
  },
  {
   "cell_type": "code",
   "execution_count": 10,
   "metadata": {},
   "outputs": [
    {
     "data": {
      "text/plain": [
       "<AxesSubplot:xlabel='satisfaction_level', ylabel='Count'>"
      ]
     },
     "execution_count": 10,
     "metadata": {},
     "output_type": "execute_result"
    },
    {
     "data": {
      "image/png": "[encoded data removed]",
      "text/plain": [
       "<Figure size 432x288 with 1 Axes>"
      ]
     },
     "metadata": {
      "needs_background": "light"
     },
     "output_type": "display_data"
    }
   ],
   "source": [
    "sns.histplot(data=emp_satis_eval,x='satisfaction_level')"
   ]
  },
  {
   "cell_type": "code",
   "execution_count": 11,
   "metadata": {},
   "outputs": [
    {
     "data": {
      "text/plain": [
       "<AxesSubplot:xlabel='last_evaluation', ylabel='Count'>"
      ]
     },
     "execution_count": 11,
     "metadata": {},
     "output_type": "execute_result"
    },
    {
     "data": {
      "image/png": "[encoded data removed]",
      "text/plain": [
       "<Figure size 432x288 with 1 Axes>"
      ]
     },
     "metadata": {
      "needs_background": "light"
     },
     "output_type": "display_data"
    }
   ],
   "source": [
    "sns.histplot(data=emp_satis_eval,x='last_evaluation')"
   ]
  },
  {
   "cell_type": "code",
   "execution_count": 12,
   "metadata": {},
   "outputs": [],
   "source": [
    "## filling the missing values with mean as both the column are uniform distributions\n",
    "\n",
    "from sklearn.impute import SimpleImputer\n",
    "\n",
    "imputer = SimpleImputer(missing_values=np.nan,strategy='mean')\n",
    "imputer.fit(emp_satis_eval)\n",
    "\n",
    "transformed_data = imputer.transform(emp_satis_eval)\n",
    "\n",
    "transformed_data = pd.DataFrame(transformed_data,columns=emp_satis_eval.columns.to_list())\n"
   ]
  },
  {
   "cell_type": "code",
   "execution_count": 13,
   "metadata": {},
   "outputs": [
    {
     "data": {
      "text/plain": [
       "EMPLOYEE #            0\n",
       "satisfaction_level    0\n",
       "last_evaluation       0\n",
       "dtype: int64"
      ]
     },
     "execution_count": 13,
     "metadata": {},
     "output_type": "execute_result"
    }
   ],
   "source": [
    "transformed_data.isna().sum()"
   ]
  },
  {
   "cell_type": "code",
   "execution_count": 14,
   "metadata": {},
   "outputs": [
    {
     "data": {
      "text/html": [
       "<div>\n",
       "<style scoped>\n",
       "    .dataframe tbody tr th:only-of-type {\n",
       "        vertical-align: middle;\n",
       "    }\n",
       "\n",
       "    .dataframe tbody tr th {\n",
       "        vertical-align: top;\n",
       "    }\n",
       "\n",
       "    .dataframe thead th {\n",
       "        text-align: right;\n",
       "    }\n",
       "</style>\n",
       "<table border=\"1\" class=\"dataframe\">\n",
       "  <thead>\n",
       "    <tr style=\"text-align: right;\">\n",
       "      <th></th>\n",
       "      <th>Unnamed: 0</th>\n",
       "      <th>employee_id</th>\n",
       "      <th>number_project</th>\n",
       "      <th>average_montly_hours</th>\n",
       "      <th>time_spend_company</th>\n",
       "      <th>Work_accident</th>\n",
       "      <th>left</th>\n",
       "      <th>promotion_last_5years</th>\n",
       "      <th>department</th>\n",
       "      <th>salary</th>\n",
       "    </tr>\n",
       "  </thead>\n",
       "  <tbody>\n",
       "    <tr>\n",
       "      <th>0</th>\n",
       "      <td>0</td>\n",
       "      <td>1003</td>\n",
       "      <td>2</td>\n",
       "      <td>157</td>\n",
       "      <td>3</td>\n",
       "      <td>0</td>\n",
       "      <td>1</td>\n",
       "      <td>0</td>\n",
       "      <td>sales</td>\n",
       "      <td>low</td>\n",
       "    </tr>\n",
       "    <tr>\n",
       "      <th>1</th>\n",
       "      <td>1</td>\n",
       "      <td>1005</td>\n",
       "      <td>5</td>\n",
       "      <td>262</td>\n",
       "      <td>6</td>\n",
       "      <td>0</td>\n",
       "      <td>1</td>\n",
       "      <td>0</td>\n",
       "      <td>sales</td>\n",
       "      <td>medium</td>\n",
       "    </tr>\n",
       "    <tr>\n",
       "      <th>2</th>\n",
       "      <td>2</td>\n",
       "      <td>1486</td>\n",
       "      <td>7</td>\n",
       "      <td>272</td>\n",
       "      <td>4</td>\n",
       "      <td>0</td>\n",
       "      <td>1</td>\n",
       "      <td>0</td>\n",
       "      <td>sales</td>\n",
       "      <td>medium</td>\n",
       "    </tr>\n",
       "    <tr>\n",
       "      <th>3</th>\n",
       "      <td>3</td>\n",
       "      <td>1038</td>\n",
       "      <td>5</td>\n",
       "      <td>223</td>\n",
       "      <td>5</td>\n",
       "      <td>0</td>\n",
       "      <td>1</td>\n",
       "      <td>0</td>\n",
       "      <td>sales</td>\n",
       "      <td>low</td>\n",
       "    </tr>\n",
       "    <tr>\n",
       "      <th>4</th>\n",
       "      <td>4</td>\n",
       "      <td>1057</td>\n",
       "      <td>2</td>\n",
       "      <td>159</td>\n",
       "      <td>3</td>\n",
       "      <td>0</td>\n",
       "      <td>1</td>\n",
       "      <td>0</td>\n",
       "      <td>sales</td>\n",
       "      <td>low</td>\n",
       "    </tr>\n",
       "    <tr>\n",
       "      <th>...</th>\n",
       "      <td>...</td>\n",
       "      <td>...</td>\n",
       "      <td>...</td>\n",
       "      <td>...</td>\n",
       "      <td>...</td>\n",
       "      <td>...</td>\n",
       "      <td>...</td>\n",
       "      <td>...</td>\n",
       "      <td>...</td>\n",
       "      <td>...</td>\n",
       "    </tr>\n",
       "    <tr>\n",
       "      <th>14994</th>\n",
       "      <td>14994</td>\n",
       "      <td>87670</td>\n",
       "      <td>2</td>\n",
       "      <td>151</td>\n",
       "      <td>3</td>\n",
       "      <td>0</td>\n",
       "      <td>1</td>\n",
       "      <td>0</td>\n",
       "      <td>support</td>\n",
       "      <td>low</td>\n",
       "    </tr>\n",
       "    <tr>\n",
       "      <th>14995</th>\n",
       "      <td>14995</td>\n",
       "      <td>87673</td>\n",
       "      <td>2</td>\n",
       "      <td>160</td>\n",
       "      <td>3</td>\n",
       "      <td>0</td>\n",
       "      <td>1</td>\n",
       "      <td>0</td>\n",
       "      <td>support</td>\n",
       "      <td>low</td>\n",
       "    </tr>\n",
       "    <tr>\n",
       "      <th>14996</th>\n",
       "      <td>14996</td>\n",
       "      <td>87679</td>\n",
       "      <td>2</td>\n",
       "      <td>143</td>\n",
       "      <td>3</td>\n",
       "      <td>0</td>\n",
       "      <td>1</td>\n",
       "      <td>0</td>\n",
       "      <td>support</td>\n",
       "      <td>low</td>\n",
       "    </tr>\n",
       "    <tr>\n",
       "      <th>14997</th>\n",
       "      <td>14997</td>\n",
       "      <td>87681</td>\n",
       "      <td>6</td>\n",
       "      <td>280</td>\n",
       "      <td>4</td>\n",
       "      <td>0</td>\n",
       "      <td>1</td>\n",
       "      <td>0</td>\n",
       "      <td>support</td>\n",
       "      <td>low</td>\n",
       "    </tr>\n",
       "    <tr>\n",
       "      <th>14998</th>\n",
       "      <td>14998</td>\n",
       "      <td>87684</td>\n",
       "      <td>2</td>\n",
       "      <td>158</td>\n",
       "      <td>3</td>\n",
       "      <td>0</td>\n",
       "      <td>1</td>\n",
       "      <td>0</td>\n",
       "      <td>support</td>\n",
       "      <td>low</td>\n",
       "    </tr>\n",
       "  </tbody>\n",
       "</table>\n",
       "<p>14999 rows × 10 columns</p>\n",
       "</div>"
      ],
      "text/plain": [
       "       Unnamed: 0  employee_id  number_project  average_montly_hours  \\\n",
       "0               0         1003               2                   157   \n",
       "1               1         1005               5                   262   \n",
       "2               2         1486               7                   272   \n",
       "3               3         1038               5                   223   \n",
       "4               4         1057               2                   159   \n",
       "...           ...          ...             ...                   ...   \n",
       "14994       14994        87670               2                   151   \n",
       "14995       14995        87673               2                   160   \n",
       "14996       14996        87679               2                   143   \n",
       "14997       14997        87681               6                   280   \n",
       "14998       14998        87684               2                   158   \n",
       "\n",
       "       time_spend_company  Work_accident  left  promotion_last_5years  \\\n",
       "0                       3              0     1                      0   \n",
       "1                       6              0     1                      0   \n",
       "2                       4              0     1                      0   \n",
       "3                       5              0     1                      0   \n",
       "4                       3              0     1                      0   \n",
       "...                   ...            ...   ...                    ...   \n",
       "14994                   3              0     1                      0   \n",
       "14995                   3              0     1                      0   \n",
       "14996                   3              0     1                      0   \n",
       "14997                   4              0     1                      0   \n",
       "14998                   3              0     1                      0   \n",
       "\n",
       "      department  salary  \n",
       "0          sales     low  \n",
       "1          sales  medium  \n",
       "2          sales  medium  \n",
       "3          sales     low  \n",
       "4          sales     low  \n",
       "...          ...     ...  \n",
       "14994    support     low  \n",
       "14995    support     low  \n",
       "14996    support     low  \n",
       "14997    support     low  \n",
       "14998    support     low  \n",
       "\n",
       "[14999 rows x 10 columns]"
      ]
     },
     "execution_count": 14,
     "metadata": {},
     "output_type": "execute_result"
    }
   ],
   "source": [
    "data"
   ]
  },
  {
   "cell_type": "code",
   "execution_count": 15,
   "metadata": {},
   "outputs": [
    {
     "data": {
      "text/html": [
       "<div>\n",
       "<style scoped>\n",
       "    .dataframe tbody tr th:only-of-type {\n",
       "        vertical-align: middle;\n",
       "    }\n",
       "\n",
       "    .dataframe tbody tr th {\n",
       "        vertical-align: top;\n",
       "    }\n",
       "\n",
       "    .dataframe thead th {\n",
       "        text-align: right;\n",
       "    }\n",
       "</style>\n",
       "<table border=\"1\" class=\"dataframe\">\n",
       "  <thead>\n",
       "    <tr style=\"text-align: right;\">\n",
       "      <th></th>\n",
       "      <th>employee_id</th>\n",
       "      <th>Unnamed: 0</th>\n",
       "      <th>number_project</th>\n",
       "      <th>average_montly_hours</th>\n",
       "      <th>time_spend_company</th>\n",
       "      <th>Work_accident</th>\n",
       "      <th>left</th>\n",
       "      <th>promotion_last_5years</th>\n",
       "      <th>department</th>\n",
       "      <th>salary</th>\n",
       "      <th>satisfaction_level</th>\n",
       "      <th>last_evaluation</th>\n",
       "    </tr>\n",
       "  </thead>\n",
       "  <tbody>\n",
       "    <tr>\n",
       "      <th>0</th>\n",
       "      <td>1003</td>\n",
       "      <td>0</td>\n",
       "      <td>2</td>\n",
       "      <td>157</td>\n",
       "      <td>3</td>\n",
       "      <td>0</td>\n",
       "      <td>1</td>\n",
       "      <td>0</td>\n",
       "      <td>sales</td>\n",
       "      <td>low</td>\n",
       "      <td>0.38</td>\n",
       "      <td>0.53</td>\n",
       "    </tr>\n",
       "    <tr>\n",
       "      <th>1</th>\n",
       "      <td>1005</td>\n",
       "      <td>1</td>\n",
       "      <td>5</td>\n",
       "      <td>262</td>\n",
       "      <td>6</td>\n",
       "      <td>0</td>\n",
       "      <td>1</td>\n",
       "      <td>0</td>\n",
       "      <td>sales</td>\n",
       "      <td>medium</td>\n",
       "      <td>0.80</td>\n",
       "      <td>0.86</td>\n",
       "    </tr>\n",
       "    <tr>\n",
       "      <th>2</th>\n",
       "      <td>1486</td>\n",
       "      <td>2</td>\n",
       "      <td>7</td>\n",
       "      <td>272</td>\n",
       "      <td>4</td>\n",
       "      <td>0</td>\n",
       "      <td>1</td>\n",
       "      <td>0</td>\n",
       "      <td>sales</td>\n",
       "      <td>medium</td>\n",
       "      <td>0.11</td>\n",
       "      <td>0.88</td>\n",
       "    </tr>\n",
       "    <tr>\n",
       "      <th>3</th>\n",
       "      <td>1038</td>\n",
       "      <td>3</td>\n",
       "      <td>5</td>\n",
       "      <td>223</td>\n",
       "      <td>5</td>\n",
       "      <td>0</td>\n",
       "      <td>1</td>\n",
       "      <td>0</td>\n",
       "      <td>sales</td>\n",
       "      <td>low</td>\n",
       "      <td>0.72</td>\n",
       "      <td>0.87</td>\n",
       "    </tr>\n",
       "    <tr>\n",
       "      <th>4</th>\n",
       "      <td>1057</td>\n",
       "      <td>4</td>\n",
       "      <td>2</td>\n",
       "      <td>159</td>\n",
       "      <td>3</td>\n",
       "      <td>0</td>\n",
       "      <td>1</td>\n",
       "      <td>0</td>\n",
       "      <td>sales</td>\n",
       "      <td>low</td>\n",
       "      <td>0.37</td>\n",
       "      <td>0.52</td>\n",
       "    </tr>\n",
       "  </tbody>\n",
       "</table>\n",
       "</div>"
      ],
      "text/plain": [
       "   employee_id  Unnamed: 0  number_project  average_montly_hours  \\\n",
       "0         1003           0               2                   157   \n",
       "1         1005           1               5                   262   \n",
       "2         1486           2               7                   272   \n",
       "3         1038           3               5                   223   \n",
       "4         1057           4               2                   159   \n",
       "\n",
       "   time_spend_company  Work_accident  left  promotion_last_5years department  \\\n",
       "0                   3              0     1                      0      sales   \n",
       "1                   6              0     1                      0      sales   \n",
       "2                   4              0     1                      0      sales   \n",
       "3                   5              0     1                      0      sales   \n",
       "4                   3              0     1                      0      sales   \n",
       "\n",
       "   salary  satisfaction_level  last_evaluation  \n",
       "0     low                0.38             0.53  \n",
       "1  medium                0.80             0.86  \n",
       "2  medium                0.11             0.88  \n",
       "3     low                0.72             0.87  \n",
       "4     low                0.37             0.52  "
      ]
     },
     "execution_count": 15,
     "metadata": {},
     "output_type": "execute_result"
    }
   ],
   "source": [
    "## join two dataframes\n",
    "\n",
    "data = data.set_index('employee_id').join(transformed_data.set_index('EMPLOYEE #')).reset_index()\n",
    "data.head()"
   ]
  },
  {
   "cell_type": "markdown",
   "metadata": {},
   "source": [
    "## Exploratory Analysis\n"
   ]
  },
  {
   "cell_type": "code",
   "execution_count": 16,
   "metadata": {},
   "outputs": [],
   "source": [
    "columns = data.columns.to_list()\n",
    "cat_cols = data.select_dtypes(include='object').columns.to_list()\n",
    "ordinal_cols = [x for x in columns if data[x].nunique() < 10 and x not in cat_cols]\n",
    "num_cols = [x for x in columns if x not in cat_cols and x not in ordinal_cols]"
   ]
  },
  {
   "cell_type": "code",
   "execution_count": 17,
   "metadata": {},
   "outputs": [],
   "source": [
    "# def draw_plots(column_list):\n",
    "#         print(column_list)\n",
    "#         if len(column_list)%2==0:\n",
    "#             cat_rows_no = len(column_list)//2 \n",
    "#         else:\n",
    "#             cat_rows_no = (len(column_list)//2)+1\n",
    "\n",
    "#         print(cat_rows_no)\n",
    "\n",
    "#         cat_cols_no = 1\n",
    "\n",
    "#         width = 15*cat_rows_no\n",
    "#         height = 5*cat_rows_no\n",
    "        \n",
    "#         # Create subplots\n",
    "#         fig, axes = plt.subplots(cat_rows_no, cat_cols_no, figsize=(width,height))\n",
    "\n",
    "#         # if cat_rows_no == 1:\n",
    "#         #     axes = axes[np.newaxis, :]\n",
    "\n",
    "#         if cat_cols_no == 1:\n",
    "#             axes = axes[:, np.newaxis]\n",
    "\n",
    "#         # Flatten the axes array if it's not already flat\n",
    "#         if not isinstance(axes, np.ndarray):\n",
    "#             axes = np.array(axes)\n",
    "\n",
    "#         # Iterate over each column and create a countplot in the corresponding subplot\n",
    "#         for i, col in enumerate(column_list):\n",
    "#             row_no = i //2\n",
    "#             col_no = i % 2\n",
    "#             sns.countplot(data=data, x=col, ax=axes[row_no, col_no])    # Create countplot in the current subplot\n",
    "#             axes[row_no, col_no].set_title(col)                         # Set title for the subplot\n",
    "\n",
    "#         # Adjust layout\n",
    "#         plt.tight_layout()\n",
    "\n",
    "#         # Show the plot\n",
    "#         plt.show()"
   ]
  },
  {
   "cell_type": "code",
   "execution_count": 18,
   "metadata": {},
   "outputs": [],
   "source": [
    "# def univariate_analysis(data):\n",
    "#     columns = data.columns.to_list()\n",
    "#     cat_cols = data.select_dtypes(include='object').columns.to_list()\n",
    "#     ordinal_cols = [x for x in columns if data[x].nunique() < 10 and x not in cat_cols]\n",
    "#     num_cols = [x for x in columns if x not in cat_cols and x not in ordinal_cols]\n",
    "\n",
    "\n",
    "#     draw_plots(cat_cols)\n",
    "#     draw_plots(ordinal_cols)\n",
    "\n",
    "    "
   ]
  },
  {
   "cell_type": "code",
   "execution_count": 19,
   "metadata": {},
   "outputs": [],
   "source": [
    "def draw_countplot(column_name):\n",
    "    order = data[column_name].value_counts().index\n",
    "    ax = sns.countplot(data=data,x=column_name,order=order)\n",
    "    for p in ax.patches:\n",
    "        ax.annotate(f'{p.get_height()}', (p.get_x() + p.get_width() / 2., p.get_height()), ha='center', va='center', fontsize=11, color='black', xytext=(0, 5), textcoords='offset points')\n",
    "    plt.title(column_name)\n",
    "    plt.show()\n"
   ]
  },
  {
   "cell_type": "code",
   "execution_count": 20,
   "metadata": {},
   "outputs": [
    {
     "data": {
      "text/plain": [
       "<AxesSubplot:xlabel='average_montly_hours', ylabel='Count'>"
      ]
     },
     "execution_count": 20,
     "metadata": {},
     "output_type": "execute_result"
    },
    {
     "data": {
      "image/png": "[encoded data removed]",
      "text/plain": [
       "<Figure size 432x288 with 1 Axes>"
      ]
     },
     "metadata": {
      "needs_background": "light"
     },
     "output_type": "display_data"
    }
   ],
   "source": [
    "sns.histplot(data=data,x = 'average_montly_hours',kde=True)"
   ]
  },
  {
   "cell_type": "code",
   "execution_count": 21,
   "metadata": {},
   "outputs": [
    {
     "data": {
      "text/plain": [
       "<AxesSubplot:xlabel='satisfaction_level', ylabel='Count'>"
      ]
     },
     "execution_count": 21,
     "metadata": {},
     "output_type": "execute_result"
    },
    {
     "data": {
      "image/png": "[encoded data removed]",
      "text/plain": [
       "<Figure size 432x288 with 1 Axes>"
      ]
     },
     "metadata": {
      "needs_background": "light"
     },
     "output_type": "display_data"
    }
   ],
   "source": [
    "sns.histplot(data=data,x = 'satisfaction_level',kde=True)"
   ]
  },
  {
   "cell_type": "code",
   "execution_count": 22,
   "metadata": {},
   "outputs": [
    {
     "data": {
      "text/plain": [
       "<AxesSubplot:xlabel='last_evaluation', ylabel='Count'>"
      ]
     },
     "execution_count": 22,
     "metadata": {},
     "output_type": "execute_result"
    },
    {
     "data": {
      "image/png": "[encoded data removed]",
      "text/plain": [
       "<Figure size 432x288 with 1 Axes>"
      ]
     },
     "metadata": {
      "needs_background": "light"
     },
     "output_type": "display_data"
    }
   ],
   "source": [
    "sns.histplot(data=data,x = 'last_evaluation',kde=True)"
   ]
  },
  {
   "cell_type": "code",
   "execution_count": 23,
   "metadata": {},
   "outputs": [
    {
     "data": {
      "image/png": "[encoded data removed]",
      "text/plain": [
       "<Figure size 432x288 with 1 Axes>"
      ]
     },
     "metadata": {
      "needs_background": "light"
     },
     "output_type": "display_data"
    },
    {
     "data": {
      "image/png": "[encoded data removed]",
      "text/plain": [
       "<Figure size 432x288 with 1 Axes>"
      ]
     },
     "metadata": {
      "needs_background": "light"
     },
     "output_type": "display_data"
    },
    {
     "data": {
      "image/png": "[encoded data removed]",
      "text/plain": [
       "<Figure size 432x288 with 1 Axes>"
      ]
     },
     "metadata": {
      "needs_background": "light"
     },
     "output_type": "display_data"
    },
    {
     "data": {
      "image/png": "[encoded data removed]",
      "text/plain": [
       "<Figure size 432x288 with 1 Axes>"
      ]
     },
     "metadata": {
      "needs_background": "light"
     },
     "output_type": "display_data"
    },
    {
     "data": {
      "image/png": "[encoded data removed]",
      "text/plain": [
       "<Figure size 432x288 with 1 Axes>"
      ]
     },
     "metadata": {
      "needs_background": "light"
     },
     "output_type": "display_data"
    }
   ],
   "source": [
    "for col in ordinal_cols:\n",
    "    draw_countplot(col)"
   ]
  },
  {
   "cell_type": "markdown",
   "metadata": {},
   "source": [
    "From univariate analysis we can see there is a bit class imbalance in target variable but not too extreme"
   ]
  },
  {
   "cell_type": "code",
   "execution_count": 24,
   "metadata": {},
   "outputs": [],
   "source": [
    "## Bivariate Analysis\n",
    "\n",
    "def analysis_with_target(column_name):\n",
    "    left_by_col = data.groupby(column_name)['left'].agg('sum').sort_values(ascending=False)\n",
    "\n",
    "    plt.figure(figsize=(10, 5))  \n",
    "    ax = sns.barplot(x=left_by_col.index, y=left_by_col.values, order=left_by_col.index, palette=\"viridis\")\n",
    "    for p in ax.patches:\n",
    "        ax.annotate(f'{p.get_height()}', (p.get_x() + p.get_width() / 2., p.get_height()), ha='center', va='center', fontsize=11, color='black', xytext=(0, 5), textcoords='offset points')\n",
    "    plt.xlabel('Department')\n",
    "    plt.ylabel('Number of Employees Left')\n",
    "    plt.title('Number of Employees Left by Department')\n",
    "    plt.xticks(rotation=45, ha='right')  \n",
    "    plt.tight_layout()  \n",
    "    plt.show()"
   ]
  },
  {
   "cell_type": "code",
   "execution_count": 25,
   "metadata": {},
   "outputs": [
    {
     "data": {
      "image/png": "[encoded data removed]",
      "text/plain": [
       "<Figure size 720x360 with 1 Axes>"
      ]
     },
     "metadata": {
      "needs_background": "light"
     },
     "output_type": "display_data"
    }
   ],
   "source": [
    "analysis_with_target('department')"
   ]
  },
  {
   "cell_type": "code",
   "execution_count": 26,
   "metadata": {},
   "outputs": [
    {
     "data": {
      "image/png": "[encoded data removed]",
      "text/plain": [
       "<Figure size 720x360 with 1 Axes>"
      ]
     },
     "metadata": {
      "needs_background": "light"
     },
     "output_type": "display_data"
    }
   ],
   "source": [
    "analysis_with_target('time_spend_company')"
   ]
  },
  {
   "cell_type": "code",
   "execution_count": 27,
   "metadata": {},
   "outputs": [
    {
     "data": {
      "image/png": "[encoded data removed]",
      "text/plain": [
       "<Figure size 720x360 with 1 Axes>"
      ]
     },
     "metadata": {
      "needs_background": "light"
     },
     "output_type": "display_data"
    }
   ],
   "source": [
    "analysis_with_target('promotion_last_5years')"
   ]
  },
  {
   "cell_type": "code",
   "execution_count": 28,
   "metadata": {},
   "outputs": [
    {
     "data": {
      "text/plain": [
       "left\n",
       "0     96\n",
       "1    126\n",
       "Name: average_montly_hours, dtype: int64"
      ]
     },
     "execution_count": 28,
     "metadata": {},
     "output_type": "execute_result"
    }
   ],
   "source": [
    "data.groupby('left')['average_montly_hours'].min()"
   ]
  },
  {
   "cell_type": "code",
   "execution_count": 29,
   "metadata": {},
   "outputs": [
    {
     "data": {
      "image/png": "[encoded data removed]",
      "text/plain": [
       "<Figure size 720x360 with 1 Axes>"
      ]
     },
     "metadata": {
      "needs_background": "light"
     },
     "output_type": "display_data"
    }
   ],
   "source": [
    "analysis_with_target('number_project')"
   ]
  },
  {
   "cell_type": "code",
   "execution_count": 30,
   "metadata": {},
   "outputs": [
    {
     "data": {
      "image/png": "[encoded data removed]",
      "text/plain": [
       "<Figure size 720x360 with 1 Axes>"
      ]
     },
     "metadata": {
      "needs_background": "light"
     },
     "output_type": "display_data"
    }
   ],
   "source": [
    "analysis_with_target('salary')"
   ]
  },
  {
   "cell_type": "code",
   "execution_count": 31,
   "metadata": {},
   "outputs": [
    {
     "data": {
      "text/plain": [
       "<AxesSubplot:xlabel='salary', ylabel='left'>"
      ]
     },
     "execution_count": 31,
     "metadata": {},
     "output_type": "execute_result"
    },
    {
     "data": {
      "image/png": "[encoded data removed]",
      "text/plain": [
       "<Figure size 1440x360 with 1 Axes>"
      ]
     },
     "metadata": {
      "needs_background": "light"
     },
     "output_type": "display_data"
    }
   ],
   "source": [
    "grouped_data = data.groupby(['salary','number_project'])['left'].agg('sum').sort_values(ascending=False).reset_index()\n",
    "plt.figure(figsize=(20,5))\n",
    "sns.barplot(data=grouped_data, x='salary', y='left', hue='number_project')"
   ]
  },
  {
   "cell_type": "markdown",
   "metadata": {},
   "source": [
    "## Data Preparation for modelling"
   ]
  },
  {
   "cell_type": "code",
   "execution_count": 32,
   "metadata": {},
   "outputs": [
    {
     "data": {
      "text/html": [
       "<div>\n",
       "<style scoped>\n",
       "    .dataframe tbody tr th:only-of-type {\n",
       "        vertical-align: middle;\n",
       "    }\n",
       "\n",
       "    .dataframe tbody tr th {\n",
       "        vertical-align: top;\n",
       "    }\n",
       "\n",
       "    .dataframe thead th {\n",
       "        text-align: right;\n",
       "    }\n",
       "</style>\n",
       "<table border=\"1\" class=\"dataframe\">\n",
       "  <thead>\n",
       "    <tr style=\"text-align: right;\">\n",
       "      <th></th>\n",
       "      <th>index</th>\n",
       "      <th>employee_id</th>\n",
       "      <th>Unnamed: 0</th>\n",
       "      <th>number_project</th>\n",
       "      <th>average_montly_hours</th>\n",
       "      <th>time_spend_company</th>\n",
       "      <th>Work_accident</th>\n",
       "      <th>left</th>\n",
       "      <th>promotion_last_5years</th>\n",
       "      <th>department</th>\n",
       "      <th>salary</th>\n",
       "      <th>satisfaction_level</th>\n",
       "      <th>last_evaluation</th>\n",
       "    </tr>\n",
       "  </thead>\n",
       "  <tbody>\n",
       "    <tr>\n",
       "      <th>0</th>\n",
       "      <td>0</td>\n",
       "      <td>1003</td>\n",
       "      <td>0</td>\n",
       "      <td>2</td>\n",
       "      <td>157</td>\n",
       "      <td>3</td>\n",
       "      <td>0</td>\n",
       "      <td>1</td>\n",
       "      <td>0</td>\n",
       "      <td>sales</td>\n",
       "      <td>low</td>\n",
       "      <td>0.38</td>\n",
       "      <td>0.53</td>\n",
       "    </tr>\n",
       "    <tr>\n",
       "      <th>1</th>\n",
       "      <td>1</td>\n",
       "      <td>1005</td>\n",
       "      <td>1</td>\n",
       "      <td>5</td>\n",
       "      <td>262</td>\n",
       "      <td>6</td>\n",
       "      <td>0</td>\n",
       "      <td>1</td>\n",
       "      <td>0</td>\n",
       "      <td>sales</td>\n",
       "      <td>medium</td>\n",
       "      <td>0.80</td>\n",
       "      <td>0.86</td>\n",
       "    </tr>\n",
       "    <tr>\n",
       "      <th>2</th>\n",
       "      <td>2</td>\n",
       "      <td>1486</td>\n",
       "      <td>2</td>\n",
       "      <td>7</td>\n",
       "      <td>272</td>\n",
       "      <td>4</td>\n",
       "      <td>0</td>\n",
       "      <td>1</td>\n",
       "      <td>0</td>\n",
       "      <td>sales</td>\n",
       "      <td>medium</td>\n",
       "      <td>0.11</td>\n",
       "      <td>0.88</td>\n",
       "    </tr>\n",
       "    <tr>\n",
       "      <th>3</th>\n",
       "      <td>3</td>\n",
       "      <td>1038</td>\n",
       "      <td>3</td>\n",
       "      <td>5</td>\n",
       "      <td>223</td>\n",
       "      <td>5</td>\n",
       "      <td>0</td>\n",
       "      <td>1</td>\n",
       "      <td>0</td>\n",
       "      <td>sales</td>\n",
       "      <td>low</td>\n",
       "      <td>0.72</td>\n",
       "      <td>0.87</td>\n",
       "    </tr>\n",
       "    <tr>\n",
       "      <th>4</th>\n",
       "      <td>4</td>\n",
       "      <td>1057</td>\n",
       "      <td>4</td>\n",
       "      <td>2</td>\n",
       "      <td>159</td>\n",
       "      <td>3</td>\n",
       "      <td>0</td>\n",
       "      <td>1</td>\n",
       "      <td>0</td>\n",
       "      <td>sales</td>\n",
       "      <td>low</td>\n",
       "      <td>0.37</td>\n",
       "      <td>0.52</td>\n",
       "    </tr>\n",
       "    <tr>\n",
       "      <th>...</th>\n",
       "      <td>...</td>\n",
       "      <td>...</td>\n",
       "      <td>...</td>\n",
       "      <td>...</td>\n",
       "      <td>...</td>\n",
       "      <td>...</td>\n",
       "      <td>...</td>\n",
       "      <td>...</td>\n",
       "      <td>...</td>\n",
       "      <td>...</td>\n",
       "      <td>...</td>\n",
       "      <td>...</td>\n",
       "      <td>...</td>\n",
       "    </tr>\n",
       "    <tr>\n",
       "      <th>14994</th>\n",
       "      <td>14994</td>\n",
       "      <td>87670</td>\n",
       "      <td>14994</td>\n",
       "      <td>2</td>\n",
       "      <td>151</td>\n",
       "      <td>3</td>\n",
       "      <td>0</td>\n",
       "      <td>1</td>\n",
       "      <td>0</td>\n",
       "      <td>support</td>\n",
       "      <td>low</td>\n",
       "      <td>0.40</td>\n",
       "      <td>0.57</td>\n",
       "    </tr>\n",
       "    <tr>\n",
       "      <th>14995</th>\n",
       "      <td>14995</td>\n",
       "      <td>87673</td>\n",
       "      <td>14995</td>\n",
       "      <td>2</td>\n",
       "      <td>160</td>\n",
       "      <td>3</td>\n",
       "      <td>0</td>\n",
       "      <td>1</td>\n",
       "      <td>0</td>\n",
       "      <td>support</td>\n",
       "      <td>low</td>\n",
       "      <td>0.37</td>\n",
       "      <td>0.48</td>\n",
       "    </tr>\n",
       "    <tr>\n",
       "      <th>14996</th>\n",
       "      <td>14996</td>\n",
       "      <td>87679</td>\n",
       "      <td>14996</td>\n",
       "      <td>2</td>\n",
       "      <td>143</td>\n",
       "      <td>3</td>\n",
       "      <td>0</td>\n",
       "      <td>1</td>\n",
       "      <td>0</td>\n",
       "      <td>support</td>\n",
       "      <td>low</td>\n",
       "      <td>0.37</td>\n",
       "      <td>0.53</td>\n",
       "    </tr>\n",
       "    <tr>\n",
       "      <th>14997</th>\n",
       "      <td>14997</td>\n",
       "      <td>87681</td>\n",
       "      <td>14997</td>\n",
       "      <td>6</td>\n",
       "      <td>280</td>\n",
       "      <td>4</td>\n",
       "      <td>0</td>\n",
       "      <td>1</td>\n",
       "      <td>0</td>\n",
       "      <td>support</td>\n",
       "      <td>low</td>\n",
       "      <td>0.11</td>\n",
       "      <td>0.96</td>\n",
       "    </tr>\n",
       "    <tr>\n",
       "      <th>14998</th>\n",
       "      <td>14998</td>\n",
       "      <td>87684</td>\n",
       "      <td>14998</td>\n",
       "      <td>2</td>\n",
       "      <td>158</td>\n",
       "      <td>3</td>\n",
       "      <td>0</td>\n",
       "      <td>1</td>\n",
       "      <td>0</td>\n",
       "      <td>support</td>\n",
       "      <td>low</td>\n",
       "      <td>0.37</td>\n",
       "      <td>0.52</td>\n",
       "    </tr>\n",
       "  </tbody>\n",
       "</table>\n",
       "<p>14999 rows × 13 columns</p>\n",
       "</div>"
      ],
      "text/plain": [
       "       index  employee_id  Unnamed: 0  number_project  average_montly_hours  \\\n",
       "0          0         1003           0               2                   157   \n",
       "1          1         1005           1               5                   262   \n",
       "2          2         1486           2               7                   272   \n",
       "3          3         1038           3               5                   223   \n",
       "4          4         1057           4               2                   159   \n",
       "...      ...          ...         ...             ...                   ...   \n",
       "14994  14994        87670       14994               2                   151   \n",
       "14995  14995        87673       14995               2                   160   \n",
       "14996  14996        87679       14996               2                   143   \n",
       "14997  14997        87681       14997               6                   280   \n",
       "14998  14998        87684       14998               2                   158   \n",
       "\n",
       "       time_spend_company  Work_accident  left  promotion_last_5years  \\\n",
       "0                       3              0     1                      0   \n",
       "1                       6              0     1                      0   \n",
       "2                       4              0     1                      0   \n",
       "3                       5              0     1                      0   \n",
       "4                       3              0     1                      0   \n",
       "...                   ...            ...   ...                    ...   \n",
       "14994                   3              0     1                      0   \n",
       "14995                   3              0     1                      0   \n",
       "14996                   3              0     1                      0   \n",
       "14997                   4              0     1                      0   \n",
       "14998                   3              0     1                      0   \n",
       "\n",
       "      department  salary  satisfaction_level  last_evaluation  \n",
       "0          sales     low                0.38             0.53  \n",
       "1          sales  medium                0.80             0.86  \n",
       "2          sales  medium                0.11             0.88  \n",
       "3          sales     low                0.72             0.87  \n",
       "4          sales     low                0.37             0.52  \n",
       "...          ...     ...                 ...              ...  \n",
       "14994    support     low                0.40             0.57  \n",
       "14995    support     low                0.37             0.48  \n",
       "14996    support     low                0.37             0.53  \n",
       "14997    support     low                0.11             0.96  \n",
       "14998    support     low                0.37             0.52  \n",
       "\n",
       "[14999 rows x 13 columns]"
      ]
     },
     "execution_count": 32,
     "metadata": {},
     "output_type": "execute_result"
    }
   ],
   "source": [
    "data.reset_index()"
   ]
  },
  {
   "cell_type": "code",
   "execution_count": 33,
   "metadata": {},
   "outputs": [],
   "source": [
    "X = data.drop(columns = ['Unnamed: 0','employee_id','left'])\n",
    "Y = data['left']"
   ]
  },
  {
   "cell_type": "code",
   "execution_count": 35,
   "metadata": {},
   "outputs": [],
   "source": [
    "x_train,x_test,y_train,y_test = train_test_split(X,Y,test_size=0.2)"
   ]
  },
  {
   "cell_type": "code",
   "execution_count": 36,
   "metadata": {},
   "outputs": [],
   "source": [
    "column_transformation = ColumnTransformer([('cat_transformer',OneHotEncoder(drop='first'),['department']),\n",
    "                                           ('ordinal_encoder',OrdinalEncoder(),['salary']),\n",
    "                                           ('standardization',StandardScaler(),['average_montly_hours'])],remainder='passthrough')\n"
   ]
  },
  {
   "cell_type": "code",
   "execution_count": 37,
   "metadata": {},
   "outputs": [
    {
     "data": {
      "text/plain": [
       "ColumnTransformer(remainder='passthrough',\n",
       "                  transformers=[('cat_transformer', OneHotEncoder(drop='first'),\n",
       "                                 ['department']),\n",
       "                                ('ordinal_encoder', OrdinalEncoder(),\n",
       "                                 ['salary']),\n",
       "                                ('standardization', StandardScaler(),\n",
       "                                 ['average_montly_hours'])])"
      ]
     },
     "execution_count": 37,
     "metadata": {},
     "output_type": "execute_result"
    }
   ],
   "source": [
    "column_transformation"
   ]
  },
  {
   "cell_type": "code",
   "execution_count": 38,
   "metadata": {},
   "outputs": [
    {
     "data": {
      "text/html": [
       "<div>\n",
       "<style scoped>\n",
       "    .dataframe tbody tr th:only-of-type {\n",
       "        vertical-align: middle;\n",
       "    }\n",
       "\n",
       "    .dataframe tbody tr th {\n",
       "        vertical-align: top;\n",
       "    }\n",
       "\n",
       "    .dataframe thead th {\n",
       "        text-align: right;\n",
       "    }\n",
       "</style>\n",
       "<table border=\"1\" class=\"dataframe\">\n",
       "  <thead>\n",
       "    <tr style=\"text-align: right;\">\n",
       "      <th></th>\n",
       "      <th>number_project</th>\n",
       "      <th>average_montly_hours</th>\n",
       "      <th>time_spend_company</th>\n",
       "      <th>Work_accident</th>\n",
       "      <th>promotion_last_5years</th>\n",
       "      <th>department</th>\n",
       "      <th>salary</th>\n",
       "      <th>satisfaction_level</th>\n",
       "      <th>last_evaluation</th>\n",
       "    </tr>\n",
       "  </thead>\n",
       "  <tbody>\n",
       "    <tr>\n",
       "      <th>8265</th>\n",
       "      <td>4</td>\n",
       "      <td>113</td>\n",
       "      <td>6</td>\n",
       "      <td>0</td>\n",
       "      <td>0</td>\n",
       "      <td>sales</td>\n",
       "      <td>medium</td>\n",
       "      <td>0.33</td>\n",
       "      <td>0.62</td>\n",
       "    </tr>\n",
       "    <tr>\n",
       "      <th>13190</th>\n",
       "      <td>5</td>\n",
       "      <td>258</td>\n",
       "      <td>2</td>\n",
       "      <td>0</td>\n",
       "      <td>0</td>\n",
       "      <td>IT</td>\n",
       "      <td>medium</td>\n",
       "      <td>0.97</td>\n",
       "      <td>0.63</td>\n",
       "    </tr>\n",
       "    <tr>\n",
       "      <th>10196</th>\n",
       "      <td>3</td>\n",
       "      <td>212</td>\n",
       "      <td>3</td>\n",
       "      <td>0</td>\n",
       "      <td>0</td>\n",
       "      <td>technical</td>\n",
       "      <td>medium</td>\n",
       "      <td>0.93</td>\n",
       "      <td>0.81</td>\n",
       "    </tr>\n",
       "    <tr>\n",
       "      <th>14289</th>\n",
       "      <td>2</td>\n",
       "      <td>157</td>\n",
       "      <td>3</td>\n",
       "      <td>0</td>\n",
       "      <td>0</td>\n",
       "      <td>sales</td>\n",
       "      <td>low</td>\n",
       "      <td>0.43</td>\n",
       "      <td>0.56</td>\n",
       "    </tr>\n",
       "    <tr>\n",
       "      <th>3071</th>\n",
       "      <td>2</td>\n",
       "      <td>188</td>\n",
       "      <td>4</td>\n",
       "      <td>0</td>\n",
       "      <td>0</td>\n",
       "      <td>sales</td>\n",
       "      <td>medium</td>\n",
       "      <td>0.49</td>\n",
       "      <td>0.69</td>\n",
       "    </tr>\n",
       "    <tr>\n",
       "      <th>...</th>\n",
       "      <td>...</td>\n",
       "      <td>...</td>\n",
       "      <td>...</td>\n",
       "      <td>...</td>\n",
       "      <td>...</td>\n",
       "      <td>...</td>\n",
       "      <td>...</td>\n",
       "      <td>...</td>\n",
       "      <td>...</td>\n",
       "    </tr>\n",
       "    <tr>\n",
       "      <th>3483</th>\n",
       "      <td>4</td>\n",
       "      <td>211</td>\n",
       "      <td>2</td>\n",
       "      <td>0</td>\n",
       "      <td>0</td>\n",
       "      <td>support</td>\n",
       "      <td>low</td>\n",
       "      <td>0.65</td>\n",
       "      <td>0.70</td>\n",
       "    </tr>\n",
       "    <tr>\n",
       "      <th>6950</th>\n",
       "      <td>3</td>\n",
       "      <td>231</td>\n",
       "      <td>2</td>\n",
       "      <td>0</td>\n",
       "      <td>0</td>\n",
       "      <td>support</td>\n",
       "      <td>medium</td>\n",
       "      <td>0.74</td>\n",
       "      <td>0.61</td>\n",
       "    </tr>\n",
       "    <tr>\n",
       "      <th>3873</th>\n",
       "      <td>3</td>\n",
       "      <td>193</td>\n",
       "      <td>2</td>\n",
       "      <td>0</td>\n",
       "      <td>0</td>\n",
       "      <td>technical</td>\n",
       "      <td>low</td>\n",
       "      <td>0.22</td>\n",
       "      <td>0.64</td>\n",
       "    </tr>\n",
       "    <tr>\n",
       "      <th>2526</th>\n",
       "      <td>4</td>\n",
       "      <td>218</td>\n",
       "      <td>4</td>\n",
       "      <td>0</td>\n",
       "      <td>0</td>\n",
       "      <td>sales</td>\n",
       "      <td>medium</td>\n",
       "      <td>0.62</td>\n",
       "      <td>0.49</td>\n",
       "    </tr>\n",
       "    <tr>\n",
       "      <th>8267</th>\n",
       "      <td>5</td>\n",
       "      <td>158</td>\n",
       "      <td>4</td>\n",
       "      <td>0</td>\n",
       "      <td>0</td>\n",
       "      <td>sales</td>\n",
       "      <td>medium</td>\n",
       "      <td>0.91</td>\n",
       "      <td>0.93</td>\n",
       "    </tr>\n",
       "  </tbody>\n",
       "</table>\n",
       "<p>11999 rows × 9 columns</p>\n",
       "</div>"
      ],
      "text/plain": [
       "       number_project  average_montly_hours  time_spend_company  \\\n",
       "8265                4                   113                   6   \n",
       "13190               5                   258                   2   \n",
       "10196               3                   212                   3   \n",
       "14289               2                   157                   3   \n",
       "3071                2                   188                   4   \n",
       "...               ...                   ...                 ...   \n",
       "3483                4                   211                   2   \n",
       "6950                3                   231                   2   \n",
       "3873                3                   193                   2   \n",
       "2526                4                   218                   4   \n",
       "8267                5                   158                   4   \n",
       "\n",
       "       Work_accident  promotion_last_5years department  salary  \\\n",
       "8265               0                      0      sales  medium   \n",
       "13190              0                      0         IT  medium   \n",
       "10196              0                      0  technical  medium   \n",
       "14289              0                      0      sales     low   \n",
       "3071               0                      0      sales  medium   \n",
       "...              ...                    ...        ...     ...   \n",
       "3483               0                      0    support     low   \n",
       "6950               0                      0    support  medium   \n",
       "3873               0                      0  technical     low   \n",
       "2526               0                      0      sales  medium   \n",
       "8267               0                      0      sales  medium   \n",
       "\n",
       "       satisfaction_level  last_evaluation  \n",
       "8265                 0.33             0.62  \n",
       "13190                0.97             0.63  \n",
       "10196                0.93             0.81  \n",
       "14289                0.43             0.56  \n",
       "3071                 0.49             0.69  \n",
       "...                   ...              ...  \n",
       "3483                 0.65             0.70  \n",
       "6950                 0.74             0.61  \n",
       "3873                 0.22             0.64  \n",
       "2526                 0.62             0.49  \n",
       "8267                 0.91             0.93  \n",
       "\n",
       "[11999 rows x 9 columns]"
      ]
     },
     "execution_count": 38,
     "metadata": {},
     "output_type": "execute_result"
    }
   ],
   "source": [
    "x_train"
   ]
  },
  {
   "cell_type": "code",
   "execution_count": 39,
   "metadata": {},
   "outputs": [
    {
     "data": {
      "text/plain": [
       "Index(['number_project', 'average_montly_hours', 'time_spend_company',\n",
       "       'Work_accident', 'promotion_last_5years', 'department', 'salary',\n",
       "       'satisfaction_level', 'last_evaluation'],\n",
       "      dtype='object')"
      ]
     },
     "execution_count": 39,
     "metadata": {},
     "output_type": "execute_result"
    }
   ],
   "source": [
    "x_train.columns"
   ]
  },
  {
   "cell_type": "code",
   "execution_count": 40,
   "metadata": {},
   "outputs": [],
   "source": [
    "x_train_transformed = column_transformation.fit_transform(x_train)\n",
    "x_test_transformed  = column_transformation.fit_transform(x_test)"
   ]
  },
  {
   "cell_type": "code",
   "execution_count": 41,
   "metadata": {},
   "outputs": [
    {
     "data": {
      "text/plain": [
       "<AxesSubplot:>"
      ]
     },
     "execution_count": 41,
     "metadata": {},
     "output_type": "execute_result"
    },
    {
     "data": {
      "image/png": "[encoded data removed]",
      "text/plain": [
       "<Figure size 1080x720 with 2 Axes>"
      ]
     },
     "metadata": {
      "needs_background": "light"
     },
     "output_type": "display_data"
    }
   ],
   "source": [
    "plt.figure(figsize=(15,10))\n",
    "sns.heatmap(data.corr())"
   ]
  },
  {
   "cell_type": "markdown",
   "metadata": {},
   "source": [
    "## Model Training"
   ]
  },
  {
   "cell_type": "code",
   "execution_count": 41,
   "metadata": {},
   "outputs": [],
   "source": [
    "from lazypredict.Supervised import LazyClassifier"
   ]
  },
  {
   "cell_type": "code",
   "execution_count": 42,
   "metadata": {},
   "outputs": [],
   "source": [
    "# classifier = LazyClassifier(verbose=0)\n",
    "# models,predictions = classifier.fit(x_train_transformed,x_test_transformed,y_train,y_test)\n",
    "\n",
    "# print(models)"
   ]
  },
  {
   "cell_type": "code",
   "execution_count": 42,
   "metadata": {},
   "outputs": [
    {
     "name": "stderr",
     "output_type": "stream",
     "text": [
      "/home/mtr_055/miniconda3/envs/learning/lib/python3.6/site-packages/sklearn/linear_model/_logistic.py:765: ConvergenceWarning: lbfgs failed to converge (status=1):\n",
      "STOP: TOTAL NO. of ITERATIONS REACHED LIMIT.\n",
      "\n",
      "Increase the number of iterations (max_iter) or scale the data as shown in:\n",
      "    https://scikit-learn.org/stable/modules/preprocessing.html\n",
      "Please also refer to the documentation for alternative solver options:\n",
      "    https://scikit-learn.org/stable/modules/linear_model.html#logistic-regression\n",
      "  extra_warning_msg=_LOGISTIC_SOLVER_CONVERGENCE_MSG)\n"
     ]
    },
    {
     "name": "stdout",
     "output_type": "stream",
     "text": [
      "cross validation scores: [0.76958333 0.75833333 0.77208333 0.76208333 0.77407253]\n"
     ]
    }
   ],
   "source": [
    "logistic = LogisticRegression()\n",
    "logistic.fit(x_train_transformed,y_train)\n",
    "\n",
    "cv = KFold(n_splits=5,shuffle=True,random_state=42)\n",
    "scores = cross_val_score(logistic,x_train_transformed,y_train,scoring='accuracy',cv=cv,n_jobs=-1)\n",
    "\n",
    "print(\"cross validation scores:\",scores)\n"
   ]
  },
  {
   "cell_type": "code",
   "execution_count": 43,
   "metadata": {},
   "outputs": [
    {
     "name": "stdout",
     "output_type": "stream",
     "text": [
      "cross validation scores: [0.97375    0.96791667 0.98166667 0.97916667 0.97540642]\n"
     ]
    }
   ],
   "source": [
    "dtree = DecisionTreeClassifier()\n",
    "dtree.fit(x_train_transformed,y_train)\n",
    "\n",
    "cv = KFold(n_splits=5,shuffle=True,random_state=42)\n",
    "scores = cross_val_score(dtree,x_train_transformed,y_train,scoring='accuracy',cv=cv,n_jobs=-1)\n",
    "\n",
    "print(\"cross validation scores:\",scores)\n"
   ]
  },
  {
   "cell_type": "code",
   "execution_count": 42,
   "metadata": {},
   "outputs": [
    {
     "name": "stdout",
     "output_type": "stream",
     "text": [
      "cross validation scores: [0.98833333 0.99125    0.98666667 0.98333333 0.98999583]\n"
     ]
    }
   ],
   "source": [
    "rtree = RandomForestClassifier()\n",
    "rtree.fit(x_train_transformed,y_train)\n",
    "\n",
    "cv = KFold(n_splits=5,shuffle=True,random_state=42)\n",
    "scores = cross_val_score(rtree,x_train_transformed,y_train,scoring='accuracy',cv=cv,n_jobs=-1)\n",
    "\n",
    "print(\"cross validation scores:\",scores)\n"
   ]
  },
  {
   "cell_type": "code",
   "execution_count": 45,
   "metadata": {},
   "outputs": [
    {
     "name": "stdout",
     "output_type": "stream",
     "text": [
      "cross validation scores: [0.74333333 0.75833333 0.73458333 0.72083333 0.73072113]\n"
     ]
    }
   ],
   "source": [
    "gb = GaussianNB()\n",
    "gb.fit(x_train_transformed,y_train)\n",
    "\n",
    "cv = KFold(n_splits=5,shuffle=True,random_state=42)\n",
    "scores = cross_val_score(gb,x_train_transformed,y_train,scoring='accuracy',cv=cv,n_jobs=-1)\n",
    "\n",
    "print(\"cross validation scores:\",scores)"
   ]
  },
  {
   "cell_type": "code",
   "execution_count": 46,
   "metadata": {},
   "outputs": [
    {
     "name": "stdout",
     "output_type": "stream",
     "text": [
      "cross validation scores: [0.93208333 0.94083333 0.94166667 0.9325     0.94330971]\n"
     ]
    }
   ],
   "source": [
    "svc = SVC()\n",
    "svc.fit(x_train_transformed,y_train)\n",
    "\n",
    "cv = KFold(n_splits=5,shuffle=True,random_state=42)\n",
    "scores = cross_val_score(svc,x_train_transformed,y_train,scoring='accuracy',cv=cv,n_jobs=-1)\n",
    "\n",
    "print(\"cross validation scores:\",scores)"
   ]
  },
  {
   "cell_type": "code",
   "execution_count": 47,
   "metadata": {},
   "outputs": [
    {
     "name": "stdout",
     "output_type": "stream",
     "text": [
      "cross validation scores: [0.95375    0.95166667 0.96083333 0.96333333 0.95873281]\n"
     ]
    }
   ],
   "source": [
    "adaboost = AdaBoostClassifier()\n",
    "adaboost.fit(x_train_transformed,y_train)\n",
    "\n",
    "cv = KFold(n_splits=5,shuffle=True,random_state=42)\n",
    "scores = cross_val_score(adaboost,x_train_transformed,y_train,scoring='accuracy',cv=cv,n_jobs=-1)\n",
    "\n",
    "print(\"cross validation scores:\",scores)"
   ]
  },
  {
   "cell_type": "code",
   "execution_count": 48,
   "metadata": {},
   "outputs": [
    {
     "name": "stdout",
     "output_type": "stream",
     "text": [
      "0.9876666666666667\n",
      "[[2252    5]\n",
      " [  32  711]]\n"
     ]
    }
   ],
   "source": [
    "y_pred = rtree.predict(x_test_transformed)\n",
    "print(accuracy_score(y_pred=y_pred,y_true=y_test))\n",
    "print(confusion_matrix(y_pred=y_pred,y_true=y_test))"
   ]
  },
  {
   "cell_type": "code",
   "execution_count": 49,
   "metadata": {},
   "outputs": [
    {
     "name": "stdout",
     "output_type": "stream",
     "text": [
      "0.958\n",
      "[[2204   53]\n",
      " [  73  670]]\n"
     ]
    }
   ],
   "source": [
    "y_pred = adaboost.predict(x_test_transformed)\n",
    "print(accuracy_score(y_pred=y_pred,y_true=y_test))\n",
    "print(confusion_matrix(y_pred=y_pred,y_true=y_test))"
   ]
  },
  {
   "cell_type": "code",
   "execution_count": 43,
   "metadata": {},
   "outputs": [
    {
     "name": "stdout",
     "output_type": "stream",
     "text": [
      "{'max_depth': 20, 'min_samples_leaf': 1, 'min_samples_split': 2, 'n_estimators': 100}\n"
     ]
    }
   ],
   "source": [
    "## Finetuning models\n",
    "\n",
    "param_grid = {\n",
    "    'n_estimators': [50, 100, 200],\n",
    "    'max_depth': [None, 10, 20],\n",
    "    'min_samples_split': [2, 5, 10],\n",
    "    'min_samples_leaf': [1, 2, 4]\n",
    "}\n",
    "\n",
    "gridsearch = GridSearchCV(estimator=rtree,param_grid=param_grid,cv=5,scoring='accuracy',n_jobs=-1)\n",
    "gridsearch.fit(x_train_transformed,y_train)\n",
    "\n",
    "best_params = gridsearch.best_params_\n",
    "print(best_params)\n"
   ]
  },
  {
   "cell_type": "code",
   "execution_count": 44,
   "metadata": {},
   "outputs": [
    {
     "name": "stdout",
     "output_type": "stream",
     "text": [
      "cross validation scores: [0.98833333 0.99083333 0.98666667 0.98416667 0.98999583]\n"
     ]
    }
   ],
   "source": [
    "rtree = RandomForestClassifier(max_depth=20,min_samples_leaf=1,n_estimators=100,min_samples_split=2)\n",
    "rtree.fit(x_train_transformed,y_train)\n",
    "\n",
    "cv = KFold(n_splits=5,shuffle=True,random_state=42)\n",
    "scores = cross_val_score(rtree,x_train_transformed,y_train,scoring='accuracy',cv=cv,n_jobs=-1)\n",
    "\n",
    "print(\"cross validation scores:\",scores)"
   ]
  },
  {
   "cell_type": "code",
   "execution_count": 45,
   "metadata": {},
   "outputs": [
    {
     "name": "stdout",
     "output_type": "stream",
     "text": [
      "0.9896666666666667\n",
      "[[2287    4]\n",
      " [  27  682]]\n"
     ]
    }
   ],
   "source": [
    "y_pred = rtree.predict(x_test_transformed)\n",
    "print(accuracy_score(y_pred=y_pred,y_true=y_test))\n",
    "print(confusion_matrix(y_pred=y_pred,y_true=y_test))"
   ]
  },
  {
   "cell_type": "markdown",
   "metadata": {},
   "source": [
    "## Deep Learning"
   ]
  },
  {
   "cell_type": "code",
   "execution_count": 58,
   "metadata": {},
   "outputs": [],
   "source": [
    "import tensorflow.keras\n",
    "from tensorflow.keras.models import Sequential\n",
    "from tensorflow.keras.layers import Dense,Dropout"
   ]
  },
  {
   "cell_type": "code",
   "execution_count": 64,
   "metadata": {},
   "outputs": [],
   "source": [
    "model = Sequential()\n",
    "model.add(Dense(10,activation='relu',input_dim = 17))\n",
    "model.add(Dense(1,activation='sigmoid'))\n",
    "\n",
    "model.compile(optimizer = 'adam',loss='binary_crossentropy',metrics = ['accuracy'])"
   ]
  },
  {
   "cell_type": "code",
   "execution_count": 65,
   "metadata": {},
   "outputs": [
    {
     "name": "stdout",
     "output_type": "stream",
     "text": [
      "Model: \"sequential_1\"\n",
      "_________________________________________________________________\n",
      "Layer (type)                 Output Shape              Param #   \n",
      "=================================================================\n",
      "dense (Dense)                (None, 10)                180       \n",
      "_________________________________________________________________\n",
      "dense_1 (Dense)              (None, 1)                 11        \n",
      "=================================================================\n",
      "Total params: 191\n",
      "Trainable params: 191\n",
      "Non-trainable params: 0\n",
      "_________________________________________________________________\n"
     ]
    }
   ],
   "source": [
    "model.summary()"
   ]
  },
  {
   "cell_type": "code",
   "execution_count": 68,
   "metadata": {},
   "outputs": [
    {
     "name": "stdout",
     "output_type": "stream",
     "text": [
      "Epoch 1/50\n",
      "1200/1200 [==============================] - 5s 4ms/step - loss: 0.1617 - accuracy: 0.9495\n",
      "Epoch 2/50\n",
      "1200/1200 [==============================] - 4s 3ms/step - loss: 0.1582 - accuracy: 0.9500\n",
      "Epoch 3/50\n",
      "1200/1200 [==============================] - 4s 4ms/step - loss: 0.1583 - accuracy: 0.9500\n",
      "Epoch 4/50\n",
      "1200/1200 [==============================] - 4s 3ms/step - loss: 0.1571 - accuracy: 0.9511\n",
      "Epoch 5/50\n",
      "1200/1200 [==============================] - 4s 4ms/step - loss: 0.1557 - accuracy: 0.9513\n",
      "Epoch 6/50\n",
      "1200/1200 [==============================] - 4s 4ms/step - loss: 0.1552 - accuracy: 0.9513\n",
      "Epoch 7/50\n",
      "1200/1200 [==============================] - 4s 3ms/step - loss: 0.1547 - accuracy: 0.9521\n",
      "Epoch 8/50\n",
      "1200/1200 [==============================] - 4s 3ms/step - loss: 0.1538 - accuracy: 0.9534\n",
      "Epoch 9/50\n",
      "1200/1200 [==============================] - 4s 3ms/step - loss: 0.1537 - accuracy: 0.9523\n",
      "Epoch 10/50\n",
      "1200/1200 [==============================] - 4s 3ms/step - loss: 0.1531 - accuracy: 0.9524\n",
      "Epoch 11/50\n",
      "1200/1200 [==============================] - 4s 3ms/step - loss: 0.1516 - accuracy: 0.9541\n",
      "Epoch 12/50\n",
      "1200/1200 [==============================] - 4s 3ms/step - loss: 0.1523 - accuracy: 0.9527\n",
      "Epoch 13/50\n",
      "1200/1200 [==============================] - 4s 4ms/step - loss: 0.1511 - accuracy: 0.9526\n",
      "Epoch 14/50\n",
      "1200/1200 [==============================] - 4s 3ms/step - loss: 0.1509 - accuracy: 0.9540\n",
      "Epoch 15/50\n",
      "1200/1200 [==============================] - 4s 3ms/step - loss: 0.1507 - accuracy: 0.9532\n",
      "Epoch 16/50\n",
      "1200/1200 [==============================] - 5s 4ms/step - loss: 0.1498 - accuracy: 0.9542\n",
      "Epoch 17/50\n",
      "1200/1200 [==============================] - 4s 4ms/step - loss: 0.1493 - accuracy: 0.9537\n",
      "Epoch 18/50\n",
      "1200/1200 [==============================] - 4s 3ms/step - loss: 0.1495 - accuracy: 0.9533\n",
      "Epoch 19/50\n",
      "1200/1200 [==============================] - 4s 3ms/step - loss: 0.1493 - accuracy: 0.9537\n",
      "Epoch 20/50\n",
      "1200/1200 [==============================] - 4s 3ms/step - loss: 0.1492 - accuracy: 0.9543\n",
      "Epoch 21/50\n",
      "1200/1200 [==============================] - 4s 3ms/step - loss: 0.1482 - accuracy: 0.9541\n",
      "Epoch 22/50\n",
      "1200/1200 [==============================] - 4s 3ms/step - loss: 0.1476 - accuracy: 0.9548\n",
      "Epoch 23/50\n",
      "1200/1200 [==============================] - 4s 3ms/step - loss: 0.1471 - accuracy: 0.9550\n",
      "Epoch 24/50\n",
      "1200/1200 [==============================] - 4s 3ms/step - loss: 0.1470 - accuracy: 0.9547\n",
      "Epoch 25/50\n",
      "1200/1200 [==============================] - 4s 3ms/step - loss: 0.1467 - accuracy: 0.9547\n",
      "Epoch 26/50\n",
      "1200/1200 [==============================] - 4s 3ms/step - loss: 0.1464 - accuracy: 0.9552\n",
      "Epoch 27/50\n",
      "1200/1200 [==============================] - 4s 3ms/step - loss: 0.1456 - accuracy: 0.9547\n",
      "Epoch 28/50\n",
      "1200/1200 [==============================] - 4s 4ms/step - loss: 0.1450 - accuracy: 0.9557\n",
      "Epoch 29/50\n",
      "1200/1200 [==============================] - 4s 3ms/step - loss: 0.1448 - accuracy: 0.9550\n",
      "Epoch 30/50\n",
      "1200/1200 [==============================] - 5s 4ms/step - loss: 0.1443 - accuracy: 0.9559\n",
      "Epoch 31/50\n",
      "1200/1200 [==============================] - 4s 4ms/step - loss: 0.1448 - accuracy: 0.9554\n",
      "Epoch 32/50\n",
      "1200/1200 [==============================] - 4s 3ms/step - loss: 0.1434 - accuracy: 0.9570\n",
      "Epoch 33/50\n",
      "1200/1200 [==============================] - 4s 3ms/step - loss: 0.1433 - accuracy: 0.9557\n",
      "Epoch 34/50\n",
      "1200/1200 [==============================] - 4s 3ms/step - loss: 0.1435 - accuracy: 0.9555\n",
      "Epoch 35/50\n",
      "1200/1200 [==============================] - 4s 3ms/step - loss: 0.1428 - accuracy: 0.9570\n",
      "Epoch 36/50\n",
      "1200/1200 [==============================] - 4s 3ms/step - loss: 0.1433 - accuracy: 0.9564\n",
      "Epoch 37/50\n",
      "1200/1200 [==============================] - 4s 3ms/step - loss: 0.1418 - accuracy: 0.9579\n",
      "Epoch 38/50\n",
      "1200/1200 [==============================] - 5s 4ms/step - loss: 0.1429 - accuracy: 0.9568\n",
      "Epoch 39/50\n",
      "1200/1200 [==============================] - 4s 4ms/step - loss: 0.1424 - accuracy: 0.9555\n",
      "Epoch 40/50\n",
      "1200/1200 [==============================] - 4s 3ms/step - loss: 0.1411 - accuracy: 0.9566\n",
      "Epoch 41/50\n",
      "1200/1200 [==============================] - 4s 4ms/step - loss: 0.1409 - accuracy: 0.9573\n",
      "Epoch 42/50\n",
      "1200/1200 [==============================] - 4s 3ms/step - loss: 0.1409 - accuracy: 0.9566\n",
      "Epoch 43/50\n",
      "1200/1200 [==============================] - 4s 4ms/step - loss: 0.1406 - accuracy: 0.9567\n",
      "Epoch 44/50\n",
      "1200/1200 [==============================] - 4s 3ms/step - loss: 0.1401 - accuracy: 0.9569\n",
      "Epoch 45/50\n",
      "1200/1200 [==============================] - 4s 3ms/step - loss: 0.1404 - accuracy: 0.9567\n",
      "Epoch 46/50\n",
      "1200/1200 [==============================] - 5s 4ms/step - loss: 0.1397 - accuracy: 0.9574\n",
      "Epoch 47/50\n",
      "1200/1200 [==============================] - 4s 3ms/step - loss: 0.1390 - accuracy: 0.9568\n",
      "Epoch 48/50\n",
      "1200/1200 [==============================] - 5s 4ms/step - loss: 0.1392 - accuracy: 0.9584\n",
      "Epoch 49/50\n",
      "1200/1200 [==============================] - 4s 3ms/step - loss: 0.1390 - accuracy: 0.9572\n",
      "Epoch 50/50\n",
      "1200/1200 [==============================] - 4s 3ms/step - loss: 0.1387 - accuracy: 0.9585\n",
      "Test loss: 0.16965851187705994\n",
      "Test accuracy: 0.9486666917800903\n"
     ]
    }
   ],
   "source": [
    "batch_size = 10\n",
    "epochs = 50\n",
    "\n",
    "history = model.fit(x_train_transformed,\n",
    "                    y_train,\n",
    "                    batch_size = batch_size,\n",
    "                    epochs = epochs,\n",
    "                    verbose = 1)\n",
    "\n",
    "score = model.evaluate(x_test_transformed, y_test, verbose=0)\n",
    "print('Test loss:', score[0])\n",
    "print('Test accuracy:', score[1])"
   ]
  },
  {
   "cell_type": "markdown",
   "metadata": {},
   "source": [
    "As the random forest classification is giving an accuracy nearly 99 percent we can go with the model than neural networks."
   ]
  },
  {
   "cell_type": "code",
   "execution_count": 78,
   "metadata": {},
   "outputs": [],
   "source": [
    "### random predictions\n",
    "columns = ['number_project', 'average_montly_hours', 'time_spend_company','Work_accident', 'promotion_last_5years', 'department', 'salary','satisfaction_level', 'last_evaluation']\n",
    "\n",
    "project_number = 2\n",
    "average_monthly_hours = 157\n",
    "time_spend_company = 3\n",
    "Work_accident = 0\n",
    "promotion_last_5years = 0\n",
    "department = 'sales'\n",
    "salary = 'low'\n",
    "satisfaction_level = 0.38\n",
    "last_evaluation = 0.53\n",
    "\n",
    "input_list = [[project_number,average_monthly_hours,time_spend_company,Work_accident,promotion_last_5years,department,salary,satisfaction_level,last_evaluation]]\n",
    "\n",
    "input = pd.DataFrame(data=input_list,columns=columns)"
   ]
  },
  {
   "cell_type": "code",
   "execution_count": 79,
   "metadata": {},
   "outputs": [],
   "source": [
    "input_transformed = column_transformation.transform(input)"
   ]
  },
  {
   "cell_type": "code",
   "execution_count": 80,
   "metadata": {},
   "outputs": [
    {
     "data": {
      "text/plain": [
       "array([1])"
      ]
     },
     "execution_count": 80,
     "metadata": {},
     "output_type": "execute_result"
    }
   ],
   "source": [
    "predicted_value = rtree.predict(input_transformed)\n",
    "predicted_value"
   ]
  },
  {
   "cell_type": "code",
   "execution_count": 65,
   "metadata": {},
   "outputs": [
    {
     "data": {
      "text/plain": [
       "array([0.00139233, 0.0017515 , 0.00160966, 0.0013784 , 0.00123348,\n",
       "       0.00113912, 0.00297692, 0.00251358, 0.00342416, 0.01192344,\n",
       "       0.15974718, 0.1923378 , 0.18194943, 0.00727669, 0.00177229,\n",
       "       0.30926782, 0.11830621])"
      ]
     },
     "execution_count": 65,
     "metadata": {},
     "output_type": "execute_result"
    }
   ],
   "source": [
    "rtree.feature_importances_"
   ]
  },
  {
   "cell_type": "markdown",
   "metadata": {},
   "source": [
    "### From the feature importance of model we can see leaving is highly dependent on satisfaction level,project number,time_spent_company,department,last_evaluation"
   ]
  },
  {
   "cell_type": "code",
   "execution_count": 85,
   "metadata": {},
   "outputs": [
    {
     "data": {
      "text/plain": [
       "Index(['employee_id', 'Unnamed: 0', 'number_project', 'average_montly_hours',\n",
       "       'time_spend_company', 'Work_accident', 'left', 'promotion_last_5years',\n",
       "       'department', 'salary', 'satisfaction_level', 'last_evaluation'],\n",
       "      dtype='object')"
      ]
     },
     "execution_count": 85,
     "metadata": {},
     "output_type": "execute_result"
    }
   ],
   "source": [
    "data.columns"
   ]
  },
  {
   "cell_type": "code",
   "execution_count": 86,
   "metadata": {},
   "outputs": [],
   "source": [
    "## construction model with only these features\n",
    "\n",
    "X = data.drop(columns = ['Unnamed: 0','employee_id','left','Work_accident','promotion_last_5years','salary'])\n",
    "Y = data['left']"
   ]
  },
  {
   "cell_type": "code",
   "execution_count": 89,
   "metadata": {},
   "outputs": [
    {
     "name": "stdout",
     "output_type": "stream",
     "text": [
      "cross validation scores: [0.98666667 0.99041667 0.98541667 0.99125    0.98541059]\n"
     ]
    }
   ],
   "source": [
    "x_train,x_test,y_train,y_test = train_test_split(X,Y,test_size=0.2)\n",
    "column_transformation = ColumnTransformer([('cat_transformer',OneHotEncoder(drop='first'),['department']),\n",
    "                                           ('standardization',StandardScaler(),['average_montly_hours'])],remainder='passthrough')\n",
    "\n",
    "\n",
    "\n",
    "x_train_transformed = column_transformation.fit_transform(x_train)\n",
    "x_test_transformed  = column_transformation.transform(x_test)\n",
    "\n",
    "rtree = RandomForestClassifier(max_depth=20,min_samples_leaf=1,n_estimators=100,min_samples_split=2)\n",
    "rtree.fit(x_train_transformed,y_train)\n",
    "\n",
    "cv = KFold(n_splits=5,shuffle=True,random_state=42)\n",
    "scores = cross_val_score(rtree,x_train_transformed,y_train,scoring='accuracy',cv=cv,n_jobs=-1)\n",
    "\n",
    "print(\"cross validation scores:\",scores)\n"
   ]
  },
  {
   "cell_type": "code",
   "execution_count": 90,
   "metadata": {},
   "outputs": [
    {
     "name": "stdout",
     "output_type": "stream",
     "text": [
      "0.9896666666666667\n",
      "[[2237    2]\n",
      " [  29  732]]\n"
     ]
    }
   ],
   "source": [
    "y_pred = rtree.predict(x_test_transformed)\n",
    "print(accuracy_score(y_pred=y_pred,y_true=y_test))\n",
    "print(confusion_matrix(y_pred=y_pred,y_true=y_test))"
   ]
  },
  {
   "cell_type": "markdown",
   "metadata": {},
   "source": [
    "### The result remained the same without any improvemnt with decrease in false negatives and increase in false positives"
   ]
  }
 ],
 "metadata": {
  "kernelspec": {
   "display_name": "learning",
   "language": "python",
   "name": "python3"
  },
  "language_info": {
   "codemirror_mode": {
    "name": "ipython",
    "version": 3
   },
   "file_extension": ".py",
   "mimetype": "text/x-python",
   "name": "python",
   "nbconvert_exporter": "python",
   "pygments_lexer": "ipython3",
   "version": "3.6.15"
  }
 },
 "nbformat": 4,
 "nbformat_minor": 2
}
